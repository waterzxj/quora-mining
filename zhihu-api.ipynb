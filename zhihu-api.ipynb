{
 "cells": [
  {
   "cell_type": "code",
   "execution_count": 54,
   "metadata": {
    "collapsed": false
   },
   "outputs": [],
   "source": [
    "import requests\n",
    "from bs4 import BeautifulSoup\n",
    "from selenium import webdriver"
   ]
  },
  {
   "cell_type": "raw",
   "metadata": {},
   "source": [
    "topic_url = 'https://www.zhihu.com/topic/19776153/hot'"
   ]
  },
  {
   "cell_type": "code",
   "execution_count": 55,
   "metadata": {
    "collapsed": true
   },
   "outputs": [],
   "source": [
    "headers = {'user-agent': 'Mozilla/5.0 (Windows NT 10.0; Win64; x64) AppleWebKit/537.36 (KHTML, like Gecko) Chrome/56.0.2924.87 Safari/537.36'}"
   ]
  },
  {
   "cell_type": "raw",
   "metadata": {},
   "source": [
    "payload = {'start':0, 'offset':2800}"
   ]
  },
  {
   "cell_type": "raw",
   "metadata": {},
   "source": [
    "r = requests.post(topic_url,headers=headers,data=payload)\n",
    "#r.text"
   ]
  },
  {
   "cell_type": "raw",
   "metadata": {},
   "source": [
    "print r.json()['msg'][1]"
   ]
  },
  {
   "cell_type": "raw",
   "metadata": {},
   "source": [
    "soup = BeautifulSoup(r.json()['msg'][1],'lxml')\n",
    "#soup"
   ]
  },
  {
   "cell_type": "raw",
   "metadata": {},
   "source": [
    "questions_soup = soup.find_all('a',attrs={'class':'question_link'})\n",
    "#questions_soup"
   ]
  },
  {
   "cell_type": "raw",
   "metadata": {},
   "source": [
    "## -1-2  num == num  len == 1 "
   ]
  },
  {
   "cell_type": "raw",
   "metadata": {},
   "source": [
    "len(questions_soup)"
   ]
  },
  {
   "cell_type": "raw",
   "metadata": {},
   "source": [
    "for q_soup in questions_soup:\n",
    "    print q_soup.text"
   ]
  },
  {
   "cell_type": "markdown",
   "metadata": {},
   "source": [
    "# topic-top-answers"
   ]
  },
  {
   "cell_type": "raw",
   "metadata": {},
   "source": [
    "topic_top_answers_url_pattern = 'https://www.zhihu.com/topic/%s/top-answers'"
   ]
  },
  {
   "cell_type": "raw",
   "metadata": {},
   "source": [
    "#payload = {'start':0, 'offset':2800}"
   ]
  },
  {
   "cell_type": "raw",
   "metadata": {},
   "source": [
    "r = requests.get(topic_top_answers_url_pattern%'19776153',headers=headers)#,data=payload)\n",
    "r.text"
   ]
  },
  {
   "cell_type": "raw",
   "metadata": {},
   "source": [
    "# content\n",
    "soup = BeautifulSoup(r.text)\n",
    "content_soup = soup.find_all('div',attrs={'class':'content'})\n",
    "len(content_soup)"
   ]
  },
  {
   "cell_type": "raw",
   "metadata": {},
   "source": [
    "for content in content_soup:\n",
    "    "
   ]
  },
  {
   "cell_type": "raw",
   "metadata": {},
   "source": [
    "class Topic(object):\n",
    "    def __init__(self,topic)\n",
    "class Question(object):\n",
    "    \n",
    "class Answer(object):\n",
    "\n",
    "class User(object):\n",
    "    def __init__(self,da):\n",
    "        \n",
    "    def name(self):\n",
    "    \n",
    "    "
   ]
  },
  {
   "cell_type": "code",
   "execution_count": 56,
   "metadata": {
    "collapsed": true
   },
   "outputs": [],
   "source": [
    "zhihu_url = 'https://www.zhihu.com'"
   ]
  },
  {
   "cell_type": "code",
   "execution_count": 59,
   "metadata": {
    "collapsed": false
   },
   "outputs": [],
   "source": [
    "class Answer(object):\n",
    "    def __init__(self,href):\n",
    "        self.url = zhihu_url+href\n",
    "        self.res = requests.get(self.url,headers=headers)\n",
    "        if self.res.status_code == 200:\n",
    "            self.soup = BeautifulSoup(self.res.text,'lxml')\n",
    "        qs = self.soup.find_all('div',attrs={'class':'QuestionAnswer-content'})[0]\n",
    "        ca = qs.find_all('div',attrs={'class':'ContentItem AnswerItem'})[0]\n",
    "        ac = ca.find_all('div',attrs={'class':'AuthorInfo-content'})[0]\n",
    "        try:\n",
    "            ul = ac.find_all('a',attrs={'class':'UserLink-link'})[0]\n",
    "            self.userlink = ul['href']\n",
    "        except:\n",
    "            self.userlink = ''\n",
    "        ri = ca.find_all('div',attrs={'class':'RichContent-inner'})[0]\n",
    "        self.text = ri.text"
   ]
  },
  {
   "cell_type": "raw",
   "metadata": {},
   "source": [
    "answer_url = 'https://www.zhihu.com/question/47145647/answer/128043449'"
   ]
  },
  {
   "cell_type": "raw",
   "metadata": {},
   "source": [
    "r = requests.get(answer_url,headers=headers)\n",
    "r.text\n",
    "soup = BeautifulSoup(r.text)\n",
    "qs = soup.find_all('div',attrs={'class':'QuestionAnswer-content'})[0]"
   ]
  },
  {
   "cell_type": "raw",
   "metadata": {},
   "source": [
    "r.text"
   ]
  },
  {
   "cell_type": "raw",
   "metadata": {},
   "source": [
    "ca = qs.find_all('div',attrs={'class':'ContentItem AnswerItem'})[0]\n",
    "#ca.attrs"
   ]
  },
  {
   "cell_type": "raw",
   "metadata": {},
   "source": [
    "ac = ca.find_all('div',attrs={'class':'AuthorInfo-content'})[0]\n",
    "print ac\n",
    "ul =  ac.find_all('a',attrs={'class':'UserLink-link'})[0]"
   ]
  },
  {
   "cell_type": "raw",
   "metadata": {},
   "source": [
    "ul['href']"
   ]
  },
  {
   "cell_type": "raw",
   "metadata": {},
   "source": [
    "ri = ca.find_all('div',attrs={'class':'RichContent-inner'})[0]"
   ]
  },
  {
   "cell_type": "raw",
   "metadata": {},
   "source": [
    "print ri.get_text()"
   ]
  },
  {
   "cell_type": "code",
   "execution_count": 60,
   "metadata": {
    "collapsed": false
   },
   "outputs": [],
   "source": [
    "a = Answer('/question/21789715/answer/19345625')"
   ]
  },
  {
   "cell_type": "raw",
   "metadata": {},
   "source": [
    "webdriver.Chrome?"
   ]
  },
  {
   "cell_type": "raw",
   "metadata": {},
   "source": [
    "phantomjs = webdriver.PhantomJS(r'e:\\Anaconda2\\Lib\\site-packages\\selenium\\webdriver_path\\phantomjs-2.1.1-windows\\bin\\phantomjs.exe')"
   ]
  },
  {
   "cell_type": "raw",
   "metadata": {},
   "source": [
    "#phantomjs = webdriver.Chrome('E:\\Anaconda2\\Lib\\site-packages\\selenium\\webdriver_path\\chromedriver.exe')"
   ]
  },
  {
   "cell_type": "raw",
   "metadata": {},
   "source": [
    "#phantomjs.implicitly_wait(3)"
   ]
  },
  {
   "cell_type": "raw",
   "metadata": {},
   "source": [
    "phantomjs.get(answer_url)"
   ]
  },
  {
   "cell_type": "raw",
   "metadata": {},
   "source": [
    "qc = phantomjs.find_element_by_class_name('QuestionAnswer-content')"
   ]
  },
  {
   "cell_type": "raw",
   "metadata": {},
   "source": [
    "qs = self.soup.find_all('div',attrs={'class':'QuestionAnswer-content'})[0]\n",
    "ca = qs.find_all('div',attrs={'class':'ContentItem AnswerItem'})[0]\n",
    "ac = ca.find_all('div',attrs={'class':'AuthorInfo-content'})[0]\n",
    "print ac\n",
    "ul =  ac.find_all('a',attrs={'class':'UserLink-link'})[0] || UserLink\n",
    "self.userlink = ul['href']\n",
    "ri = ca.find_all('div',attrs={'class':'RichContent-inner'})[0]\n",
    "self.text = ri.text"
   ]
  },
  {
   "cell_type": "raw",
   "metadata": {},
   "source": [
    "cm = qc.find_element_by_class_name('ContentItem-meta')\n",
    "ac = cm.find_element_by_class_name('AuthorInfo-content')\n",
    "ul = ac.find_element_by_class_name('UserLink-link')"
   ]
  },
  {
   "cell_type": "raw",
   "metadata": {},
   "source": [
    "print ac.text"
   ]
  },
  {
   "cell_type": "code",
   "execution_count": 65,
   "metadata": {
    "collapsed": false
   },
   "outputs": [
    {
     "name": "stdout",
     "output_type": "stream",
     "text": [
      "这是一个国家的悲哀……优质教育资源极度短缺而且分布极度失衡之下，不得已而出现的一种现象-----分数决定命运……衡中的老师无罪，衡中的校长无罪，河北的孩子受罪，河北的家长流泪……如果能把三公消费降下来，贴在教育上，让河北也有几个能与北京抗衡的大学，河北的孩子会让北上的孩子明白，我们河北人也能有艺术造诣，也有创造性思维，河北的老师也会让北上广的老师明白，我们河北的老师也可以搞素质教育，也会组织活动，组织讨论，但是在可以预见的未来，这终究是一个梦\n"
     ]
    }
   ],
   "source": [
    "print a.text"
   ]
  },
  {
   "cell_type": "code",
   "execution_count": 66,
   "metadata": {
    "collapsed": true
   },
   "outputs": [],
   "source": [
    "zhihu_api_url = 'https://www.zhihu.com/api/v4/questions/%s/answers?limit=20&offset=0'"
   ]
  },
  {
   "cell_type": "code",
   "execution_count": 87,
   "metadata": {
    "collapsed": false
   },
   "outputs": [],
   "source": [
    "headers2 = {'user-agent': 'Mozilla/5.0 (Windows NT 10.0; Win64; x64) AppleWebKit/537.36 (KHTML, like Gecko) Chrome/56.0.2924.87 Safari/537.36',\n",
    "          #'accept':'application/json, text/plain, */*',\n",
    "          'authorization':'oauth c3cef7c66a1843f8b3a9e6a1e3160e20',\n",
    "          #'x-udid':'AECCYdU9KwuPTh4DahhnpQ6AhG5JM4h5rdY='\n",
    "          }\n"
   ]
  },
  {
   "cell_type": "code",
   "execution_count": 88,
   "metadata": {
    "collapsed": true
   },
   "outputs": [],
   "source": [
    "r = requests.get(zhihu_api_url%47145647,headers=headers2)"
   ]
  },
  {
   "cell_type": "code",
   "execution_count": 89,
   "metadata": {
    "collapsed": false
   },
   "outputs": [],
   "source": [
    "j = r.json()"
   ]
  },
  {
   "cell_type": "code",
   "execution_count": 93,
   "metadata": {
    "collapsed": false
   },
   "outputs": [
    {
     "data": {
      "text/plain": [
       "{u'author': {u'avatar_url': u'https://pic2.zhimg.com/7bb8e8dbdb89040311cf63dde7dd1a39_is.jpg',\n",
       "  u'avatar_url_template': u'https://pic2.zhimg.com/7bb8e8dbdb89040311cf63dde7dd1a39_{size}.jpg',\n",
       "  u'badge': [],\n",
       "  u'gender': 1,\n",
       "  u'headline': u'\\u7565\\u61c2\\u519b\\u4e8b',\n",
       "  u'id': u'b4d0c0abb7bba269c1a3d74197ed6140',\n",
       "  u'is_advertiser': False,\n",
       "  u'is_followed': False,\n",
       "  u'is_following': False,\n",
       "  u'is_org': False,\n",
       "  u'name': u'\\u84dd\\u4e91',\n",
       "  u'type': u'people',\n",
       "  u'url': u'http://www.zhihu.com/api/v4/people/b4d0c0abb7bba269c1a3d74197ed6140',\n",
       "  u'url_token': u'lan-yun-86-93',\n",
       "  u'user_type': u'people'},\n",
       " u'can_comment': {u'reason': u'', u'status': True},\n",
       " u'comment_count': 735,\n",
       " u'comment_permission': u'all',\n",
       " u'created_time': 1477242127,\n",
       " u'excerpt': u'\\u8d5e\\u540c<a class=\"member_mention\" href=\"https://www.zhihu.com/people/0c5c7afd25f575d091f6162c7b68d42b\" data-hovercard=\"p$b$0c5c7afd25f575d091f6162c7b68d42b\" data-hash=\"0c5c7afd25f575d091f6162c7b68d42b\">@\\u8d75\\u4e7e</a> \\uff0c\\u5728\\u8fd9\\u91cc\\u4e3e\\u4e2a\\u5b9e\\u9645\\u4f8b\\u5b50\\u3002 \\u53bb\\u5e74\\u5355\\u4f4d\\u4e0e\\u67d0\\u5b66\\u6821\\uff08\\u4eba\\u5927\\u9644\\u4e2d\\u5317\\u4eac\\u56db\\u4e2d\\u4e2d\\u5173\\u675123\\u516b\\u4e00\\u5c0f\\u5b66\\u53f2\\u5bb6\\u5c0f\\u5b66\\u8fd9\\u4e2a\\u7ea7\\u522b\\u7684\\uff09\\u5408\\u4f5c\\uff0c\\u7ed9\\u4ed6\\u4eec\\u5f00\\u519b\\u4e8b\\u7c7b\\u7684\\u9009\\u4fee\\u8bfe\\uff0c\\u6700\\u540e\\u5e03\\u7f6e\\u7684\\u4f5c\\u4e1a\\u662f\\u4e00\\u7bc7\\u4f5c\\u6587\\uff0c\\u6211\\u4e0e\\u6d77\\u519b/\\u6211\\u4e0e\\u6d77\\u6d0b\\u3002 \\u6536\\u4e0a\\u6765\\u7684\\u4f5c\\u6587\\u4e5f\\u662f\\u6211\\u4eec\\u6279\\u6539\\uff0c\\u4e0b\\u9762\\u662f\\u90e8\\u5206\\u4f5c\\u6587\\u8282\\u9009\\u3002 ------------\\u2026',\n",
       " u'extras': u'',\n",
       " u'id': 128043449,\n",
       " u'is_collapsed': False,\n",
       " u'is_copyable': True,\n",
       " u'question': {u'author': {u'avatar_url': u'https://pic2.zhimg.com/aadd7b895_is.jpg',\n",
       "   u'avatar_url_template': u'https://pic2.zhimg.com/aadd7b895_{size}.jpg',\n",
       "   u'badge': [],\n",
       "   u'gender': 1,\n",
       "   u'headline': u'',\n",
       "   u'id': u'0',\n",
       "   u'is_advertiser': False,\n",
       "   u'is_followed': False,\n",
       "   u'is_following': False,\n",
       "   u'is_org': False,\n",
       "   u'name': u'\\u533f\\u540d\\u7528\\u6237',\n",
       "   u'type': u'people',\n",
       "   u'url': u'http://www.zhihu.com/api/v4/people/0',\n",
       "   u'url_token': u'',\n",
       "   u'user_type': u'people'},\n",
       "  u'created': 1465181132,\n",
       "  u'id': 47145647,\n",
       "  u'question_type': u'normal',\n",
       "  u'title': u'\\u4e3a\\u4ec0\\u4e48\\u5927\\u591a\\u6570\\u9ad8\\u4e2d\\u5b81\\u613f\\u5b66\\u4e60\\u8861\\u4e2d\\uff0c\\u800c\\u4e0d\\u613f\\u5b66\\u4e60\\u7406\\u5ff5\\u66f4\\u52a0\\u5148\\u8fdb\\u7684\\u4eba\\u5927\\u9644\\u4e2d\\u7b49\\uff1f',\n",
       "  u'type': u'question',\n",
       "  u'updated_time': 1465181132,\n",
       "  u'url': u'http://www.zhihu.com/api/v4/questions/47145647'},\n",
       " u'suggest_edit': {u'reason': u'',\n",
       "  u'status': False,\n",
       "  u'tip': u'',\n",
       "  u'title': u'',\n",
       "  u'unnormal_details': {},\n",
       "  u'url': u''},\n",
       " u'thanks_count': 996,\n",
       " u'thumbnail': u'',\n",
       " u'type': u'answer',\n",
       " u'updated_time': 1477242154,\n",
       " u'url': u'http://www.zhihu.com/api/v4/answers/128043449',\n",
       " u'voteup_count': 10039}"
      ]
     },
     "execution_count": 93,
     "metadata": {},
     "output_type": "execute_result"
    }
   ],
   "source": [
    "j['data'][0]"
   ]
  },
  {
   "cell_type": "code",
   "execution_count": 92,
   "metadata": {
    "collapsed": false
   },
   "outputs": [
    {
     "data": {
      "text/plain": [
       "{u'is_end': False,\n",
       " u'is_start': True,\n",
       " u'next': u'http://www.zhihu.com/api/v4/questions/47145647/answers?limit=20&offset=20',\n",
       " u'previous': u'http://www.zhihu.com/api/v4/questions/47145647/answers?limit=20&offset=0',\n",
       " u'totals': 1285}"
      ]
     },
     "execution_count": 92,
     "metadata": {},
     "output_type": "execute_result"
    }
   ],
   "source": [
    "j['paging']"
   ]
  },
  {
   "cell_type": "raw",
   "metadata": {},
   "source": [
    "people_url = 'http://www.zhihu.com/api/v4/people/9c4e2590c97695855341d9e16700d130'"
   ]
  },
  {
   "cell_type": "raw",
   "metadata": {},
   "source": [
    "r_p = requests.get(people_url,headers=headers2)\n",
    "r_p"
   ]
  },
  {
   "cell_type": "code",
   "execution_count": 102,
   "metadata": {
    "collapsed": true
   },
   "outputs": [],
   "source": [
    "class Question(object):\n",
    "    def __init__(self,url_token):\n",
    "        self.headers = {'user-agent': 'Mozilla/5.0 (Windows NT 10.0; Win64; x64)\\\n",
    "        AppleWebKit/537.36 (KHTML, like Gecko) Chrome/56.0.2924.87 Safari/537.36',\n",
    "          'authorization':'oauth c3cef7c66a1843f8b3a9e6a1e3160e20',\n",
    "          }\n",
    "        self.url_token = url_token\n",
    "        self.data = []\n",
    "        res = requests.get(zhihu_api_url%self.url_token,headers=self.headers)\n",
    "        j = res.json()\n",
    "        self.totals = j['paging']['totals']\n",
    "        self.data.extend(j['data'])\n",
    "        while not j['paging']['is_end']:\n",
    "            res = requests.get(j['paging']['next'],headers=self.headers)\n",
    "            j = res.json()\n",
    "            self.data.extend(j['data'])\n",
    "    #def save(self,)"
   ]
  },
  {
   "cell_type": "code",
   "execution_count": 103,
   "metadata": {
    "collapsed": true
   },
   "outputs": [],
   "source": [
    "q = Question(47145647)"
   ]
  },
  {
   "cell_type": "code",
   "execution_count": 104,
   "metadata": {
    "collapsed": false
   },
   "outputs": [
    {
     "data": {
      "text/plain": [
       "1285"
      ]
     },
     "execution_count": 104,
     "metadata": {},
     "output_type": "execute_result"
    }
   ],
   "source": [
    "q.totals"
   ]
  },
  {
   "cell_type": "code",
   "execution_count": 105,
   "metadata": {
    "collapsed": false
   },
   "outputs": [
    {
     "data": {
      "text/plain": [
       "47145647"
      ]
     },
     "execution_count": 105,
     "metadata": {},
     "output_type": "execute_result"
    }
   ],
   "source": [
    "q.url_token"
   ]
  },
  {
   "cell_type": "code",
   "execution_count": 106,
   "metadata": {
    "collapsed": false
   },
   "outputs": [
    {
     "data": {
      "text/plain": [
       "[{u'author': {u'avatar_url': u'https://pic2.zhimg.com/7bb8e8dbdb89040311cf63dde7dd1a39_is.jpg',\n",
       "   u'avatar_url_template': u'https://pic2.zhimg.com/7bb8e8dbdb89040311cf63dde7dd1a39_{size}.jpg',\n",
       "   u'badge': [],\n",
       "   u'gender': 1,\n",
       "   u'headline': u'\\u7565\\u61c2\\u519b\\u4e8b',\n",
       "   u'id': u'b4d0c0abb7bba269c1a3d74197ed6140',\n",
       "   u'is_advertiser': False,\n",
       "   u'is_followed': False,\n",
       "   u'is_following': False,\n",
       "   u'is_org': False,\n",
       "   u'name': u'\\u84dd\\u4e91',\n",
       "   u'type': u'people',\n",
       "   u'url': u'http://www.zhihu.com/api/v4/people/b4d0c0abb7bba269c1a3d74197ed6140',\n",
       "   u'url_token': u'lan-yun-86-93',\n",
       "   u'user_type': u'people'},\n",
       "  u'can_comment': {u'reason': u'', u'status': True},\n",
       "  u'comment_count': 735,\n",
       "  u'comment_permission': u'all',\n",
       "  u'created_time': 1477242127,\n",
       "  u'excerpt': u'\\u8d5e\\u540c<a class=\"member_mention\" href=\"https://www.zhihu.com/people/0c5c7afd25f575d091f6162c7b68d42b\" data-hovercard=\"p$b$0c5c7afd25f575d091f6162c7b68d42b\" data-hash=\"0c5c7afd25f575d091f6162c7b68d42b\">@\\u8d75\\u4e7e</a> \\uff0c\\u5728\\u8fd9\\u91cc\\u4e3e\\u4e2a\\u5b9e\\u9645\\u4f8b\\u5b50\\u3002 \\u53bb\\u5e74\\u5355\\u4f4d\\u4e0e\\u67d0\\u5b66\\u6821\\uff08\\u4eba\\u5927\\u9644\\u4e2d\\u5317\\u4eac\\u56db\\u4e2d\\u4e2d\\u5173\\u675123\\u516b\\u4e00\\u5c0f\\u5b66\\u53f2\\u5bb6\\u5c0f\\u5b66\\u8fd9\\u4e2a\\u7ea7\\u522b\\u7684\\uff09\\u5408\\u4f5c\\uff0c\\u7ed9\\u4ed6\\u4eec\\u5f00\\u519b\\u4e8b\\u7c7b\\u7684\\u9009\\u4fee\\u8bfe\\uff0c\\u6700\\u540e\\u5e03\\u7f6e\\u7684\\u4f5c\\u4e1a\\u662f\\u4e00\\u7bc7\\u4f5c\\u6587\\uff0c\\u6211\\u4e0e\\u6d77\\u519b/\\u6211\\u4e0e\\u6d77\\u6d0b\\u3002 \\u6536\\u4e0a\\u6765\\u7684\\u4f5c\\u6587\\u4e5f\\u662f\\u6211\\u4eec\\u6279\\u6539\\uff0c\\u4e0b\\u9762\\u662f\\u90e8\\u5206\\u4f5c\\u6587\\u8282\\u9009\\u3002 ------------\\u2026',\n",
       "  u'extras': u'',\n",
       "  u'id': 128043449,\n",
       "  u'is_collapsed': False,\n",
       "  u'is_copyable': True,\n",
       "  u'question': {u'author': {u'avatar_url': u'https://pic2.zhimg.com/aadd7b895_is.jpg',\n",
       "    u'avatar_url_template': u'https://pic2.zhimg.com/aadd7b895_{size}.jpg',\n",
       "    u'badge': [],\n",
       "    u'gender': 1,\n",
       "    u'headline': u'',\n",
       "    u'id': u'0',\n",
       "    u'is_advertiser': False,\n",
       "    u'is_followed': False,\n",
       "    u'is_following': False,\n",
       "    u'is_org': False,\n",
       "    u'name': u'\\u533f\\u540d\\u7528\\u6237',\n",
       "    u'type': u'people',\n",
       "    u'url': u'http://www.zhihu.com/api/v4/people/0',\n",
       "    u'url_token': u'',\n",
       "    u'user_type': u'people'},\n",
       "   u'created': 1465181132,\n",
       "   u'id': 47145647,\n",
       "   u'question_type': u'normal',\n",
       "   u'title': u'\\u4e3a\\u4ec0\\u4e48\\u5927\\u591a\\u6570\\u9ad8\\u4e2d\\u5b81\\u613f\\u5b66\\u4e60\\u8861\\u4e2d\\uff0c\\u800c\\u4e0d\\u613f\\u5b66\\u4e60\\u7406\\u5ff5\\u66f4\\u52a0\\u5148\\u8fdb\\u7684\\u4eba\\u5927\\u9644\\u4e2d\\u7b49\\uff1f',\n",
       "   u'type': u'question',\n",
       "   u'updated_time': 1465181132,\n",
       "   u'url': u'http://www.zhihu.com/api/v4/questions/47145647'},\n",
       "  u'suggest_edit': {u'reason': u'',\n",
       "   u'status': False,\n",
       "   u'tip': u'',\n",
       "   u'title': u'',\n",
       "   u'unnormal_details': {},\n",
       "   u'url': u''},\n",
       "  u'thanks_count': 996,\n",
       "  u'thumbnail': u'',\n",
       "  u'type': u'answer',\n",
       "  u'updated_time': 1477242154,\n",
       "  u'url': u'http://www.zhihu.com/api/v4/answers/128043449',\n",
       "  u'voteup_count': 10039},\n",
       " {u'author': {u'avatar_url': u'https://pic1.zhimg.com/da8e974dc_is.jpg',\n",
       "   u'avatar_url_template': u'https://pic1.zhimg.com/da8e974dc_{size}.jpg',\n",
       "   u'badge': [],\n",
       "   u'gender': 1,\n",
       "   u'headline': u'',\n",
       "   u'id': u'370d8ebf8e211c27d943b5cb391136bf',\n",
       "   u'is_advertiser': False,\n",
       "   u'is_followed': False,\n",
       "   u'is_following': False,\n",
       "   u'is_org': False,\n",
       "   u'name': u'\\u77e5\\u4e4e\\u7528\\u6237',\n",
       "   u'type': u'people',\n",
       "   u'url': u'http://www.zhihu.com/api/v4/people/0',\n",
       "   u'url_token': u'',\n",
       "   u'user_type': u'people'},\n",
       "  u'can_comment': {u'reason': u'', u'status': True},\n",
       "  u'comment_count': 368,\n",
       "  u'comment_permission': u'all',\n",
       "  u'created_time': 1477884037,\n",
       "  u'excerpt': u'\\u672c\\u515a\\u68cd\\u53c8\\u6765\\u5531\\u53cd\\u8c03\\u4e86\\uff0c\\u9898\\u4e3b\\u9ed8\\u8ba4\\u5927\\u591a\\u6570\\u9ad8\\u4e2d\\u53ea\\u80fd\\u5728\\u5b66\\u4e60\\u8861\\u4e2d\\u548c\\u5b66\\u4e60\\u4eba\\u5927\\u9644\\u4e2d\\u4e24\\u4e2a\\u9009\\u9879\\u4e2d\\u505a\\u9009\\u62e9\\uff0c\\u5927\\u524d\\u63d0\\u5c31\\u9519\\u4e86\\uff0c\\u8fd9\\u4e48\\u591a\\u9ad8\\u8d5e\\u56de\\u7b54\\u5c45\\u7136\\u90fd\\u987a\\u7740\\u9898\\u4e3b\\u7684\\u601d\\u8def\\u8d70\\uff0c\\u5b9e\\u5728\\u662f\\u9057\\u61be\\u3002 \\u636e\\u6211\\u89c2\\u5bdf\\uff0c\\u629b\\u5f00\\u7eaf\\u7cb9\\u6df7\\u65e5\\u5b50\\u7684\\u9ad8\\u4e2d\\u4e0d\\u8c08\\uff0c\\u51e1\\u662f\\u60f3\\u51fa\\u70b9\\u6210\\u7ee9\\u7684\\u9ad8\\u4e2d\\uff0c\\u65e0\\u975e\\u662f\\u4ee5\\u4e0b\\u56db\\u79cd\\u6a21\\u5f0f\\uff1a \\u2460\\u6bdb\\u5766\\u5382\\u6a21\\u2026',\n",
       "  u'extras': u'',\n",
       "  u'id': 129169092,\n",
       "  u'is_collapsed': False,\n",
       "  u'is_copyable': True,\n",
       "  u'question': {u'author': {u'avatar_url': u'https://pic2.zhimg.com/aadd7b895_is.jpg',\n",
       "    u'avatar_url_template': u'https://pic2.zhimg.com/aadd7b895_{size}.jpg',\n",
       "    u'badge': [],\n",
       "    u'gender': 1,\n",
       "    u'headline': u'',\n",
       "    u'id': u'0',\n",
       "    u'is_advertiser': False,\n",
       "    u'is_followed': False,\n",
       "    u'is_following': False,\n",
       "    u'is_org': False,\n",
       "    u'name': u'\\u533f\\u540d\\u7528\\u6237',\n",
       "    u'type': u'people',\n",
       "    u'url': u'http://www.zhihu.com/api/v4/people/0',\n",
       "    u'url_token': u'',\n",
       "    u'user_type': u'people'},\n",
       "   u'created': 1465181132,\n",
       "   u'id': 47145647,\n",
       "   u'question_type': u'normal',\n",
       "   u'title': u'\\u4e3a\\u4ec0\\u4e48\\u5927\\u591a\\u6570\\u9ad8\\u4e2d\\u5b81\\u613f\\u5b66\\u4e60\\u8861\\u4e2d\\uff0c\\u800c\\u4e0d\\u613f\\u5b66\\u4e60\\u7406\\u5ff5\\u66f4\\u52a0\\u5148\\u8fdb\\u7684\\u4eba\\u5927\\u9644\\u4e2d\\u7b49\\uff1f',\n",
       "   u'type': u'question',\n",
       "   u'updated_time': 1465181132,\n",
       "   u'url': u'http://www.zhihu.com/api/v4/questions/47145647'},\n",
       "  u'suggest_edit': {u'reason': u'',\n",
       "   u'status': False,\n",
       "   u'tip': u'',\n",
       "   u'title': u'',\n",
       "   u'unnormal_details': {},\n",
       "   u'url': u''},\n",
       "  u'thanks_count': 265,\n",
       "  u'thumbnail': u'https://pic1.zhimg.com/v2-3d5ea48c129f677d70e464b7eebe049c_200x112.png',\n",
       "  u'type': u'answer',\n",
       "  u'updated_time': 1477891754,\n",
       "  u'url': u'http://www.zhihu.com/api/v4/answers/129169092',\n",
       "  u'voteup_count': 1777},\n",
       " {u'author': {u'avatar_url': u'https://pic3.zhimg.com/ba640fca73532a50f1a23be722c27ad6_is.png',\n",
       "   u'avatar_url_template': u'https://pic3.zhimg.com/ba640fca73532a50f1a23be722c27ad6_{size}.png',\n",
       "   u'badge': [],\n",
       "   u'gender': 0,\n",
       "   u'headline': u'\\u671f\\u5f85\\u751f\\u547d\\u4e2d\\u7684\\u8389\\u9999~~',\n",
       "   u'id': u'5b51707b8785001ba617e2b6af0ad263',\n",
       "   u'is_advertiser': False,\n",
       "   u'is_followed': False,\n",
       "   u'is_following': False,\n",
       "   u'is_org': False,\n",
       "   u'name': u'Zpuzzle',\n",
       "   u'type': u'people',\n",
       "   u'url': u'http://www.zhihu.com/api/v4/people/5b51707b8785001ba617e2b6af0ad263',\n",
       "   u'url_token': u'zhang-zhu-12',\n",
       "   u'user_type': u'people'},\n",
       "  u'can_comment': {u'reason': u'', u'status': True},\n",
       "  u'comment_count': 37,\n",
       "  u'comment_permission': u'followee',\n",
       "  u'created_time': 1477198653,\n",
       "  u'excerpt': u'\\u4e24\\u4e2a\\u5b57\\uff1a\\u6ca1\\u94b1\\u3002 \\u8fd9\\u662f2016\\u5e74\\u4eba\\u5927\\u9644\\u4e2d\\u65b0\\u62db\\u8058\\u7684\\u6559\\u5e08\\u4eba\\u5458\\u540d\\u5355\\uff1a \\u4e00\\u53e5\\u8bdd\\uff0c985\\u7855\\u58eb\\u8d77\\u6b65\\uff0c\\u535a\\u58eb\\u5360\\u523060%\\uff0c\\u6d77\\u9f9f\\u7855\\u535a\\u5360\\u523020%\\u3002\\u8fd9\\u610f\\u5473\\u7740\\u4ec0\\u4e48\\uff1f\\u8981\\u77e5\\u9053\\uff0c\\u73b0\\u5728\\u5927\\u591a\\u6570\\u4e00\\u672c\\u9ad8\\u6821\\u90fd\\u6ca1\\u6709\\u8fd9\\u6837\\u7684\\u5e08\\u8d44\\u3002 <b>\\u6211\\u4f5c\\u4e3a\\u4e00\\u540d\\u9ad8\\u4e2d\\u751f\\uff0c\\u5341\\u5206\\u8d39\\u89e3\\u4e00\\u70b9\\uff0c\\u660e\\u660e\\u6709\\u7740\\u66f4\\u597d\\u7684\\u6559\\u80b2\\u7406\\u5ff5\\uff0c\\u5e76\\u4e14\\u5728\\u5317\\u4eac\\u56db\\u4e2d\\u3001\\u2026</b>',\n",
       "  u'extras': u'',\n",
       "  u'id': 127950625,\n",
       "  u'is_collapsed': False,\n",
       "  u'is_copyable': True,\n",
       "  u'question': {u'author': {u'avatar_url': u'https://pic2.zhimg.com/aadd7b895_is.jpg',\n",
       "    u'avatar_url_template': u'https://pic2.zhimg.com/aadd7b895_{size}.jpg',\n",
       "    u'badge': [],\n",
       "    u'gender': 1,\n",
       "    u'headline': u'',\n",
       "    u'id': u'0',\n",
       "    u'is_advertiser': False,\n",
       "    u'is_followed': False,\n",
       "    u'is_following': False,\n",
       "    u'is_org': False,\n",
       "    u'name': u'\\u533f\\u540d\\u7528\\u6237',\n",
       "    u'type': u'people',\n",
       "    u'url': u'http://www.zhihu.com/api/v4/people/0',\n",
       "    u'url_token': u'',\n",
       "    u'user_type': u'people'},\n",
       "   u'created': 1465181132,\n",
       "   u'id': 47145647,\n",
       "   u'question_type': u'normal',\n",
       "   u'title': u'\\u4e3a\\u4ec0\\u4e48\\u5927\\u591a\\u6570\\u9ad8\\u4e2d\\u5b81\\u613f\\u5b66\\u4e60\\u8861\\u4e2d\\uff0c\\u800c\\u4e0d\\u613f\\u5b66\\u4e60\\u7406\\u5ff5\\u66f4\\u52a0\\u5148\\u8fdb\\u7684\\u4eba\\u5927\\u9644\\u4e2d\\u7b49\\uff1f',\n",
       "   u'type': u'question',\n",
       "   u'updated_time': 1465181132,\n",
       "   u'url': u'http://www.zhihu.com/api/v4/questions/47145647'},\n",
       "  u'suggest_edit': {u'reason': u'',\n",
       "   u'status': False,\n",
       "   u'tip': u'',\n",
       "   u'title': u'',\n",
       "   u'unnormal_details': {},\n",
       "   u'url': u''},\n",
       "  u'thanks_count': 332,\n",
       "  u'thumbnail': u'https://pic1.zhimg.com/v2-98571227646a6e8bc7e518f0e277c13c_200x112.jpg',\n",
       "  u'type': u'answer',\n",
       "  u'updated_time': 1477199760,\n",
       "  u'url': u'http://www.zhihu.com/api/v4/answers/127950625',\n",
       "  u'voteup_count': 2625}]"
      ]
     },
     "execution_count": 106,
     "metadata": {},
     "output_type": "execute_result"
    }
   ],
   "source": [
    "q.data[:3]"
   ]
  },
  {
   "cell_type": "code",
   "execution_count": null,
   "metadata": {
    "collapsed": true
   },
   "outputs": [],
   "source": []
  }
 ],
 "metadata": {
  "anaconda-cloud": {},
  "kernelspec": {
   "display_name": "Python [default]",
   "language": "python",
   "name": "python2"
  },
  "language_info": {
   "codemirror_mode": {
    "name": "ipython",
    "version": 2
   },
   "file_extension": ".py",
   "mimetype": "text/x-python",
   "name": "python",
   "nbconvert_exporter": "python",
   "pygments_lexer": "ipython2",
   "version": "2.7.12"
  }
 },
 "nbformat": 4,
 "nbformat_minor": 1
}
